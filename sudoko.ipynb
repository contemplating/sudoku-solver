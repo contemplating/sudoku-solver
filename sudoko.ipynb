{
 "nbformat": 4,
 "nbformat_minor": 2,
 "metadata": {
  "language_info": {
   "name": "python",
   "codemirror_mode": {
    "name": "ipython",
    "version": 3
   },
   "version": "3.6.6-final"
  },
  "orig_nbformat": 2,
  "file_extension": ".py",
  "mimetype": "text/x-python",
  "name": "python",
  "npconvert_exporter": "python",
  "pygments_lexer": "ipython3",
  "version": 3,
  "kernelspec": {
   "name": "python36664bitf6340ddff0b6462fbfaca23dba5640f5",
   "display_name": "Python 3.6.6 64-bit"
  }
 },
 "cells": [
  {
   "cell_type": "code",
   "execution_count": null,
   "metadata": {},
   "outputs": [],
   "source": []
  },
  {
   "cell_type": "code",
   "execution_count": 74,
   "metadata": {},
   "outputs": [],
   "source": [
    "import copy\n",
    "grid = [0,8,0,0,0,7,4,1,0,\n",
    "        5,0,0,0,0,0,6,0,9,\n",
    "        0,1,0,6,0,0,0,0,0,\n",
    "        0,6,0,0,0,0,1,3,0,\n",
    "        9,7,0,1,0,4,8,0,0,\n",
    "        0,3,0,0,0,5,0,0,2,\n",
    "        2,0,0,0,5,8,3,0,0,\n",
    "        0,0,0,0,0,1,2,9,6,\n",
    "        3,0,0,2,0,0,7,0,8]\n",
    "original_grid = copy.deepcopy(grid)"
   ]
  },
  {
   "cell_type": "code",
   "execution_count": 28,
   "metadata": {},
   "outputs": [],
   "source": [
    "def intersection(list1, list2):\n",
    "    return [value for value in list1 if value in list2]"
   ]
  },
  {
   "cell_type": "code",
   "execution_count": 29,
   "metadata": {},
   "outputs": [],
   "source": [
    "def getGroups(index):\n",
    "    return [index % 9, 9 + index // 9, 18 + (index % 9) // 3 +  3 * (index // 27)]\n"
   ]
  },
  {
   "cell_type": "code",
   "execution_count": 30,
   "metadata": {},
   "outputs": [],
   "source": [
    "def getCells(groups):\n",
    "    return [i for i in range(81) if len(intersection(getGroups(i),groups)) > 0]"
   ]
  },
  {
   "cell_type": "code",
   "execution_count": 31,
   "metadata": {},
   "outputs": [],
   "source": [
    "def isPossible(index, value):\n",
    "    assert(value>0)\n",
    "    assert(index>=0)\n",
    "    assert(index<81)\n",
    "    cells = getCells(getGroups(index))\n",
    "    for cell in cells:\n",
    "        if grid[cell] == value:\n",
    "            return False\n",
    "    return True\n"
   ]
  },
  {
   "cell_type": "code",
   "execution_count": 47,
   "metadata": {},
   "outputs": [],
   "source": [
    "def fgrid(i):\n",
    "    s = \"\"\n",
    "    s += str(grid[i]) if grid[i] > 0 else \".\"\n",
    "    s += str(grid[i+1]) if grid[i+1] > 0 else \".\"\n",
    "    s += str(grid[i+2]) if grid[i+2] > 0 else \".\"\n",
    "    return s\n",
    ""
   ]
  },
  {
   "cell_type": "code",
   "execution_count": 43,
   "metadata": {},
   "outputs": [],
   "source": [
    "def printGrid():\n",
    "    for r in range(9):\n",
    "        if r % 3 == 0:\n",
    "            print(\"+===+===+===+\")\n",
    "        print(f'|{fgrid(9*r+0)}|{fgrid(9*r+3)}|{fgrid(9*r+6)}|')\n",
    "            \n",
    "    print(\"+===+===+===+\")"
   ]
  },
  {
   "cell_type": "code",
   "execution_count": 33,
   "metadata": {},
   "outputs": [],
   "source": [
    "def solve():\n",
    "    global grid\n",
    "    for i in range(81):\n",
    "        if grid[i] == 0:\n",
    "            for v in range(1,10):\n",
    "                if isPossible(i,v):\n",
    "                    grid[i] = v\n",
    "                    solve()\n",
    "                    grid[i] = 0\n",
    "            return\n",
    "    print(\"Solved\")\n",
    "    printGrid()"
   ]
  },
  {
   "cell_type": "code",
   "execution_count": 34,
   "metadata": {},
   "outputs": [],
   "source": [
    "def getPossibleValues(index):\n",
    "    cells = getCells(getGroups(index))\n",
    "    cells.remove(index)\n",
    "    res = []\n",
    "    for value in range(1,10):\n",
    "        if value not in [grid[cell] for cell in cells]:\n",
    "            res.append(value)\n",
    "    return res\n"
   ]
  },
  {
   "cell_type": "code",
   "execution_count": 67,
   "metadata": {},
   "outputs": [],
   "source": [
    "def solveSinglePossibilities():\n",
    "    for i in range(81):\n",
    "        if grid[i] == 0:\n",
    "            possibilities = getPossibleValues(i)\n",
    "            if len(possibilities) == 1:\n",
    "                if (debug > 0):\n",
    "                    print(f\"setting cell {i} to {possibilities[0]}\")\n",
    "                grid[i] = possibilities[0]"
   ]
  },
  {
   "cell_type": "code",
   "execution_count": 79,
   "metadata": {},
   "outputs": [
    {
     "name": "stdout",
     "output_type": "stream",
     "text": "+===+===+===+\n|689|527|413|\n|527|413|689|\n|413|689|527|\n+===+===+===+\n|865|972|134|\n|972|134|865|\n|134|865|972|\n+===+===+===+\n|296|758|341|\n|758|341|296|\n|341|296|758|\n+===+===+===+\n+===+===+===+\n|689|527|413|\n|527|413|689|\n|413|689|527|\n+===+===+===+\n|865|972|134|\n|972|134|865|\n|134|865|972|\n+===+===+===+\n|296|758|341|\n|758|341|296|\n|341|296|758|\n+===+===+===+\n"
    }
   ],
   "source": [
    "#solve()\n",
    "debug = 1\n",
    "printGrid()\n",
    "#for i  in range(81):\n",
    "#    if grid[i] == 0:\n",
    "#        print(i, getPossibleValues(i))\n",
    "solveSinglePossibilities()\n",
    "printGrid()\n"
   ]
  },
  {
   "cell_type": "code",
   "execution_count": null,
   "metadata": {},
   "outputs": [],
   "source": []
  }
 ]
}